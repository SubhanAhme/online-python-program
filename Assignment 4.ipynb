{
 "cells": [
  {
   "cell_type": "markdown",
   "id": "0d364cc5",
   "metadata": {},
   "source": [
    "# Calculator"
   ]
  },
  {
   "cell_type": "code",
   "execution_count": 36,
   "id": "52afed28",
   "metadata": {},
   "outputs": [
    {
     "name": "stdout",
     "output_type": "stream",
     "text": [
      "add = 1 \n",
      "Subtract = 2 \n",
      "Multiplication = 3 \n",
      "Division = 4 \n",
      "Power = 5\n",
      "Select what you want to do: 2\n",
      "Enter First number: 4\n",
      "Enter Second number: 3\n",
      "Answer:  1\n"
     ]
    }
   ],
   "source": [
    "print(\"add = 1\",\"\\n\" \"Subtract = 2\",\"\\n\" \"Multiplication = 3\",\"\\n\" \"Division = 4\",\"\\n\" \"Power = 5\")\n",
    "select = int(input(\"Select what you want to do: \"))\n",
    "## Addidtion\n",
    "if(select == 1):\n",
    "    def add(a,b):\n",
    "        return(a+b)\n",
    "    a = int(input(\"Enter First number: \"))\n",
    "    b = int(input(\"Enter Second number: \"))\n",
    "    c = add(a,b)\n",
    "    print(\"Answer: \",c)\n",
    "    \n",
    "## Subtraction\n",
    "if(select == 2):\n",
    "    def subt(a,b):\n",
    "        return(a-b)\n",
    "    a = int(input(\"Enter First number: \"))\n",
    "    b = int(input(\"Enter Second number: \"))\n",
    "    c = subt(a,b)\n",
    "    print(\"Answer: \",c)\n",
    "##Multiplication\n",
    "if(select == 3):\n",
    "    def multi(a,b):\n",
    "        return(a*b)\n",
    "    a = int(input(\"Enter First number: \"))\n",
    "    b = int(input(\"Enter Second number: \"))\n",
    "    c = multi(a,b)\n",
    "    print(\"Answer: \",c)\n",
    "##Division\n",
    "if(select == 4):\n",
    "    def divi(a,b):\n",
    "        while(a == 0):\n",
    "            print(\"Denominator should not be 0\")\n",
    "            a = int(input(\"Enter Denominator again: \"))\n",
    "        return(b/a)\n",
    "    b = int(input(\"Enter Numinator: \"))\n",
    "    a = int(input(\"Enter Denominator: \"))\n",
    "    c = divi(a,b)\n",
    "    print(\"Answer: \",c)\n",
    "\n",
    "##Power\n",
    "if(select == 5):\n",
    "    def powe(a,b):\n",
    "        return(a**b)\n",
    "    b = int(input(\"Enter Power: \"))\n",
    "    a = int(input(\"Enter Number: \"))\n",
    "    c = powe(a,b)\n",
    "    print(\"Answer: \",c)\n",
    "\n"
   ]
  },
  {
   "cell_type": "markdown",
   "id": "73745a9d",
   "metadata": {},
   "source": [
    "## 2. Write a program to check if there is any numeric value in list using for loop."
   ]
  },
  {
   "cell_type": "code",
   "execution_count": 37,
   "id": "5514e450",
   "metadata": {},
   "outputs": [
    {
     "name": "stdout",
     "output_type": "stream",
     "text": [
      "found 2\n",
      "found 75\n",
      "found 3\n",
      "found 2\n",
      "found 64\n",
      "found 2\n"
     ]
    }
   ],
   "source": [
    "listed = [\"Hello\",2,75,3,2,\"World\",True,False,True,64,2]\n",
    "for i in range(len(listed)):\n",
    "    if(type(listed[i]) == int):\n",
    "        print(\"found\",listed[i])"
   ]
  },
  {
   "cell_type": "markdown",
   "id": "ed710c72",
   "metadata": {},
   "source": [
    "## 3. Write a Python script to add a key to a dictionary."
   ]
  },
  {
   "cell_type": "code",
   "execution_count": 47,
   "id": "19795f8d",
   "metadata": {},
   "outputs": [
    {
     "name": "stdout",
     "output_type": "stream",
     "text": [
      "Enter key name: heelo\n",
      "Enter Value: w\n",
      "To stop give 0 in key\n",
      "Enter key name: 2\n",
      "Enter Value: 4\n",
      "To stop give 0 in key\n",
      "Enter key name: 5\n",
      "Enter Value: 2\n",
      "To stop give 0 in key\n",
      "Enter key name: s\n",
      "Enter Value: 2\n",
      "To stop give 0 in key\n",
      "Enter key name: 0\n",
      "{'heelo': 'w', '2': '4', '5': '2', 's': '2'}\n"
     ]
    }
   ],
   "source": [
    "dicted = {}\n",
    "def addKey(key,value):\n",
    "    dicted[key] = value\n",
    "key = 1\n",
    "while(True):\n",
    "    key = input(\"Enter key name: \")\n",
    "    if (key == '0'):\n",
    "        break\n",
    "    value = input(\"Enter Value: \")\n",
    "    addKey(key,value)\n",
    "    print(\"To stop give 0 in key\")\n",
    "print(dicted)"
   ]
  },
  {
   "cell_type": "markdown",
   "id": "61c16330",
   "metadata": {},
   "source": [
    "## 4. Write a Python program to sum all the numeric items in a dictionary."
   ]
  },
  {
   "cell_type": "code",
   "execution_count": 49,
   "id": "767825a7",
   "metadata": {},
   "outputs": [
    {
     "name": "stdout",
     "output_type": "stream",
     "text": [
      "Sum of all numeric values in list is 148\n"
     ]
    }
   ],
   "source": [
    "listed = [\"Hello\",2,75,3,2,\"World\",True,False,True,64,2]\n",
    "X = 0\n",
    "for i in range(len(listed)):\n",
    "    if(type(listed[i]) == int):\n",
    "        X += listed[i]\n",
    "print(\"Sum of all numeric values in list is: \",X)"
   ]
  },
  {
   "cell_type": "markdown",
   "id": "ca05e512",
   "metadata": {},
   "source": [
    "## 5. Write a program to identify duplicate values from list."
   ]
  },
  {
   "cell_type": "code",
   "execution_count": 66,
   "id": "b59ae656",
   "metadata": {
    "scrolled": true
   },
   "outputs": [
    {
     "name": "stdout",
     "output_type": "stream",
     "text": [
      "2  is Repeated 3 times\n",
      "2  is Repeated 3 times\n",
      "True  is Repeated 2 times\n",
      "True  is Repeated 2 times\n",
      "2  is Repeated 3 times\n"
     ]
    }
   ],
   "source": [
    "listed = [\"Hello\",2,75,3,2,\"World\",True,False,True,64,2]\n",
    "for i in range(len(listed)):\n",
    "    count = 0\n",
    "    for j in range(len(listed)):\n",
    "        if(listed[i] == listed[j]):\n",
    "            count += 1\n",
    "    if(count>1):\n",
    "        print(listed[i],\" is Repeated\",count,\"times\")"
   ]
  },
  {
   "cell_type": "markdown",
   "id": "07cdfa1b",
   "metadata": {},
   "source": [
    "## 6. Write a Python script to check if a given key already exists in a dictionary"
   ]
  },
  {
   "cell_type": "code",
   "execution_count": 77,
   "id": "9c3c19e2",
   "metadata": {},
   "outputs": [
    {
     "name": "stdout",
     "output_type": "stream",
     "text": [
      "Enter key name to check: 4\n",
      "Key Exist,  Value of key is:  four\n"
     ]
    }
   ],
   "source": [
    "dits = {1:'one',2:'two',3:'three',4:'four',5:'five'}\n",
    "jey = int(input(\"Enter key name to check: \"))\n",
    "for i in dits.keys():\n",
    "    if(i == jey):\n",
    "        print(\"Key Exist, \",\"Value of key is: \",dits[i])\n",
    "        break\n",
    "    \n",
    "    \n"
   ]
  },
  {
   "cell_type": "code",
   "execution_count": null,
   "id": "0c70e349",
   "metadata": {},
   "outputs": [],
   "source": []
  }
 ],
 "metadata": {
  "kernelspec": {
   "display_name": "Python 3",
   "language": "python",
   "name": "python3"
  },
  "language_info": {
   "codemirror_mode": {
    "name": "ipython",
    "version": 3
   },
   "file_extension": ".py",
   "mimetype": "text/x-python",
   "name": "python",
   "nbconvert_exporter": "python",
   "pygments_lexer": "ipython3",
   "version": "3.8.8"
  }
 },
 "nbformat": 4,
 "nbformat_minor": 5
}
