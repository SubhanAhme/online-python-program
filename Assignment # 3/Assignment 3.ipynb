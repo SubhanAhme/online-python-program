{
 "cells": [
  {
   "cell_type": "code",
   "execution_count": 1,
   "id": "8afe5dcb",
   "metadata": {},
   "outputs": [
    {
     "name": "stdout",
     "output_type": "stream",
     "text": [
      "Twinkle, twinkle little star,\n",
      "\tHow I wonder what you are!\n",
      "\t\tUp above the wonder so high,\n",
      "\t\tLike the diamond in the sky,\n",
      "Twinkle, twinle little star,\n",
      "\thow I wonder what you are\n"
     ]
    }
   ],
   "source": [
    "### 1\n",
    "print(\"Twinkle, twinkle little star,\"\"\\n\"\"\\t\"\"How I wonder what you are!\"\"\\n\"\"\\t\"\"\\t\"\"Up above the wonder so high,\")\n",
    "print(\"\\t\"\"\\t\"\"Like the diamond in the sky,\"\"\\n\"\"Twinkle, twinle little star,\"\"\\n\"\"\\t\"\"how I wonder what you are\")"
   ]
  },
  {
   "cell_type": "code",
   "execution_count": 2,
   "id": "72b70ccf",
   "metadata": {},
   "outputs": [
    {
     "name": "stdout",
     "output_type": "stream",
     "text": [
      "python version\n",
      "3.8.8 (default, Apr 13 2021, 15:08:03) [MSC v.1916 64 bit (AMD64)]\n",
      "version info\n",
      "sys.version_info(major=3, minor=8, micro=8, releaselevel='final', serial=0)\n"
     ]
    }
   ],
   "source": [
    "##### 2\n",
    "import sys\n",
    "print(\"python version\")\n",
    "print(sys.version)\n",
    "print(\"version info\")\n",
    "print(sys.version_info)"
   ]
  },
  {
   "cell_type": "code",
   "execution_count": 3,
   "id": "f6dff36a",
   "metadata": {},
   "outputs": [
    {
     "name": "stdout",
     "output_type": "stream",
     "text": [
      "2021-10-24 13:18:18\n"
     ]
    }
   ],
   "source": [
    "#### 3\n",
    "from datetime import datetime\n",
    "date=datetime.now()\n",
    "print(date.strftime(\"%Y-%m-%d %H:%M:%S\"))"
   ]
  },
  {
   "cell_type": "code",
   "execution_count": 4,
   "id": "4c2f51c4",
   "metadata": {},
   "outputs": [
    {
     "name": "stdout",
     "output_type": "stream",
     "text": [
      "enter any value:5\n",
      "area of the circle is 78.53981633974483\n"
     ]
    }
   ],
   "source": [
    "#### 4\n",
    "import math\n",
    "r=int(input(\"enter any value:\"))\n",
    "area=math.pi*(r**2)\n",
    "print(\"area of the circle is\",area)"
   ]
  },
  {
   "cell_type": "code",
   "execution_count": 5,
   "id": "b6681add",
   "metadata": {},
   "outputs": [
    {
     "name": "stdout",
     "output_type": "stream",
     "text": [
      "enter first name:subhan\n",
      "enter last name:ahmed\n",
      "ahmed subhan\n"
     ]
    }
   ],
   "source": [
    "##### 5\n",
    "fn=input(\"enter first name:\")\n",
    "ln=input(\"enter last name:\")\n",
    "print(ln,fn)"
   ]
  },
  {
   "cell_type": "code",
   "execution_count": 6,
   "id": "b337beaa",
   "metadata": {},
   "outputs": [
    {
     "name": "stdout",
     "output_type": "stream",
     "text": [
      "enter english marks77\n",
      "enter maths marks72\n",
      "enter physics marks73\n",
      "enter chemistry marks82\n",
      "enter urdu marks79\n",
      "76.6\n",
      "Grade-A\n"
     ]
    }
   ],
   "source": [
    "###### 7\n",
    "english=int(input(\"enter english marks\"))\n",
    "maths=int(input(\"enter maths marks\"))\n",
    "physics=int(input(\"enter physics marks\"))\n",
    "chemistry=int(input(\"enter chemistry marks\"))\n",
    "urdu=int(input(\"enter urdu marks\"))\n",
    "total=500;\n",
    "percentage=((english+maths+physics+chemistry+urdu)/total)*100\n",
    "print(percentage)\n",
    "if (percentage>100):\n",
    "    print(\"you make a mistake in inputs\")\n",
    "elif percentage < 100 and percentage >= 80:\n",
    "    print(\"Grade-Aone\")\n",
    "elif percentage < 80 and percentage >= 70:\n",
    "    print(\"Grade-A\")\n",
    "elif percentage < 70 and percentage >= 60:\n",
    "    print(\"Grade-B\")\n",
    "elif percentage < 60 and percentage >= 50:\n",
    "    print(\"Grade-C\")\n",
    "elif percentage < 50 and percentage >= 40:\n",
    "    print(\"Grade-D\")\n",
    "elif percentage < 40 and percentage >= 33:\n",
    "    print(\"Grade-E\")\n",
    "elif percentage < 33 :\n",
    "    print(\"Fail\")"
   ]
  },
  {
   "cell_type": "code",
   "execution_count": 7,
   "id": "2e781d0b",
   "metadata": {},
   "outputs": [
    {
     "name": "stdout",
     "output_type": "stream",
     "text": [
      "enter first value:subhanahmed\n",
      "enter second value:53\n",
      "subhanahmed53\n"
     ]
    }
   ],
   "source": [
    "####6\n",
    "first=input(\"enter first value:\")\n",
    "second=input(\"enter second value:\")\n",
    "print(first+second)"
   ]
  },
  {
   "cell_type": "code",
   "execution_count": 9,
   "id": "3946e25d",
   "metadata": {},
   "outputs": [
    {
     "name": "stdout",
     "output_type": "stream",
     "text": [
      "enter any no:77\n",
      "its odd value\n"
     ]
    }
   ],
   "source": [
    "#### 8\n",
    "n=int(input(\"enter any no:\"))\n",
    "if n%2==0:\n",
    "    print(\"its even value\")\n",
    "else:\n",
    "    print(\"its odd value\")"
   ]
  },
  {
   "cell_type": "code",
   "execution_count": 16,
   "id": "0a1e6a06",
   "metadata": {},
   "outputs": [
    {
     "name": "stdout",
     "output_type": "stream",
     "text": [
      "8\n"
     ]
    }
   ],
   "source": [
    "##### 9\n",
    "list=[5,4,17,18,8,90,\"subhan\",\"ahmed\"]\n",
    "print(len(list))"
   ]
  },
  {
   "cell_type": "code",
   "execution_count": 10,
   "id": "966590eb",
   "metadata": {},
   "outputs": [
    {
     "name": "stdout",
     "output_type": "stream",
     "text": [
      "sum of the list is 307\n"
     ]
    }
   ],
   "source": [
    "##### 10\n",
    "list=[29,31,9,17,81,92,48]\n",
    "sum=sum(list)\n",
    "print(\"sum of the list is\",sum)\n",
    "\n"
   ]
  },
  {
   "cell_type": "code",
   "execution_count": 1,
   "id": "ff942034",
   "metadata": {},
   "outputs": [
    {
     "name": "stdout",
     "output_type": "stream",
     "text": [
      "largest no of the list is 89\n"
     ]
    }
   ],
   "source": [
    "##### 11 \n",
    "list=[9,19,82,55,89,17,17]\n",
    "n=len(list)\n",
    "list.sort()\n",
    "print(\"largest no of the list is\",list[n-1])"
   ]
  },
  {
   "cell_type": "code",
   "execution_count": 5,
   "id": "1fbac675",
   "metadata": {},
   "outputs": [
    {
     "name": "stdout",
     "output_type": "stream",
     "text": [
      "[1, 1, 2, 3]\n"
     ]
    }
   ],
   "source": [
    "#### 12\n",
    "a = [1, 1, 2, 3, 5, 8, 13, 21, 34, 55, 89]\n",
    "b=[]\n",
    "for i in a:\n",
    "    if i<5:\n",
    "        b.append(i)\n",
    "print(b)"
   ]
  },
  {
   "cell_type": "code",
   "execution_count": null,
   "id": "dfb65b07",
   "metadata": {},
   "outputs": [],
   "source": []
  }
 ],
 "metadata": {
  "kernelspec": {
   "display_name": "Python 3",
   "language": "python",
   "name": "python3"
  },
  "language_info": {
   "codemirror_mode": {
    "name": "ipython",
    "version": 3
   },
   "file_extension": ".py",
   "mimetype": "text/x-python",
   "name": "python",
   "nbconvert_exporter": "python",
   "pygments_lexer": "ipython3",
   "version": "3.8.8"
  }
 },
 "nbformat": 4,
 "nbformat_minor": 5
}
